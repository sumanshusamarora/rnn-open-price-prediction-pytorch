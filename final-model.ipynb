{
 "cells": [
  {
   "cell_type": "code",
   "execution_count": 1,
   "id": "7a8cc18d",
   "metadata": {},
   "outputs": [],
   "source": [
    "from datetime import timedelta\n",
    "\n",
    "from feature_engine.selection import DropDuplicateFeatures, SmartCorrelatedSelection\n",
    "from feature_engine.encoding import OneHotEncoder\n",
    "import joblib\n",
    "import mlflow\n",
    "import mlflow.pytorch\n",
    "import numpy as np\n",
    "import pandas as pd\n",
    "import pytorch_lightning as pl\n",
    "from pytorch_lightning.callbacks.early_stopping import EarlyStopping\n",
    "from sklearn.preprocessing import MinMaxScaler\n",
    "import torch\n",
    "from torch import nn\n",
    "import torch.nn.functional as F\n",
    "from torch.utils.data import DataLoader, Dataset, random_split"
   ]
  },
  {
   "cell_type": "code",
   "execution_count": 2,
   "id": "6c1971c0",
   "metadata": {},
   "outputs": [],
   "source": [
    "mlflow.set_experiment(\"rnn-timeseries\")\n",
    "pd.options.display.max_columns = None\n",
    "np.set_printoptions(suppress=True)"
   ]
  },
  {
   "cell_type": "raw",
   "id": "76587d4e",
   "metadata": {},
   "source": [
    "data = pd.read_excel(\"data/All_comp - Copy.xlsx\")\n",
    "data.to_pickle(\"data/all_comp.pkl\")"
   ]
  },
  {
   "cell_type": "code",
   "execution_count": 3,
   "id": "dcb4bd57",
   "metadata": {},
   "outputs": [],
   "source": [
    "data = pd.read_pickle(\"data/all_comp.pkl\")"
   ]
  },
  {
   "cell_type": "code",
   "execution_count": 4,
   "id": "f7a270b8",
   "metadata": {},
   "outputs": [],
   "source": [
    "data[\"company\"] = data[\"FileName\"].copy()"
   ]
  },
  {
   "cell_type": "code",
   "execution_count": 5,
   "id": "962848ea",
   "metadata": {},
   "outputs": [],
   "source": [
    "train_dataframes_list = []\n",
    "test_dataframes_list = []\n",
    "for company in data.FileName.unique():\n",
    "    temp_ds = data[data.FileName == company].sort_values(\"Date (AUS)\").reset_index(drop=True)\n",
    "    train_dataframes_list.append(temp_ds.iloc[:-60])\n",
    "    test_dataframes_list.append(temp_ds.iloc[-60:])"
   ]
  },
  {
   "cell_type": "code",
   "execution_count": 6,
   "id": "d3c800fc",
   "metadata": {},
   "outputs": [],
   "source": [
    "data_copy = pd.concat(train_dataframes_list)\n",
    "data_test = pd.concat(test_dataframes_list)"
   ]
  },
  {
   "cell_type": "code",
   "execution_count": 7,
   "id": "9e175517",
   "metadata": {},
   "outputs": [],
   "source": [
    "data_copy.FileName = data_copy.FileName.astype(\"category\")\n",
    "data_test.FileName = data_test.FileName.astype(\"category\")"
   ]
  },
  {
   "cell_type": "markdown",
   "id": "f8cc3d83",
   "metadata": {},
   "source": [
    "### Feature Analysis"
   ]
  },
  {
   "cell_type": "code",
   "execution_count": 8,
   "id": "62f786d6",
   "metadata": {},
   "outputs": [],
   "source": [
    "drop_duplicate_features = DropDuplicateFeatures(variables=data_copy.columns.to_list())\n",
    "data_copy = drop_duplicate_features.fit_transform(data_copy)\n",
    "data_test = drop_duplicate_features.transform(data_test)"
   ]
  },
  {
   "cell_type": "code",
   "execution_count": 9,
   "id": "92ec8703",
   "metadata": {},
   "outputs": [],
   "source": [
    "smart_correlated_selection = SmartCorrelatedSelection(variables=data_copy.drop(columns=[\"Open\", \"Close\"]).select_dtypes(include=np.number).columns.to_list())\n",
    "data_copy = smart_correlated_selection.fit_transform(data_copy)\n",
    "data_test = smart_correlated_selection.transform(data_test)"
   ]
  },
  {
   "cell_type": "code",
   "execution_count": null,
   "id": "d8f143eb",
   "metadata": {},
   "outputs": [],
   "source": [
    "one_hot_encoder = OneHotEncoder(variables=[\"FileName\"])\n",
    "data_copy = one_hot_encoder.fit_transform(data_copy)\n",
    "data_test = one_hot_encoder.transform(data_test)"
   ]
  },
  {
   "cell_type": "code",
   "execution_count": null,
   "id": "7570c6cb",
   "metadata": {},
   "outputs": [],
   "source": [
    "data_copy[\"target\"] = data_copy[\"Open\"].shift(-1).copy()\n",
    "data_test[\"target\"] = data_test[\"Open\"].shift(-1).copy()"
   ]
  },
  {
   "cell_type": "raw",
   "id": "203b291b",
   "metadata": {},
   "source": [
    "min_max_cols = [col for col in data_copy.columns if col not in [\"Date (AUS)\", \"FileName\", \"Days Listed\", \"target\"]]\n",
    "min_max_scaler = MinMaxScaler(feature_range=(-1,1))\n",
    "data_copy[min_max_cols] = min_max_scaler.fit_transform(data_copy[min_max_cols])\n",
    "data_test[min_max_cols] = min_max_scaler.transform(data_test[min_max_cols])"
   ]
  },
  {
   "cell_type": "code",
   "execution_count": null,
   "id": "4a6ac63a",
   "metadata": {},
   "outputs": [],
   "source": [
    "joblib.dump(drop_duplicate_features, \"artifacts/drop_duplicate_features.pkl\")\n",
    "joblib.dump(smart_correlated_selection, \"artifacts/smart_correlated_selection.pkl\")\n",
    "joblib.dump(one_hot_encoder, \"artifacts/one_hot_encoder.pkl\")\n",
    "#joblib.dump(min_max_scaler, \"artifacts/min_max_scaler.pkl\")\n",
    "data_test.to_pickle(\"artifacts/data_test.pkl\")"
   ]
  },
  {
   "cell_type": "code",
   "execution_count": null,
   "id": "0f5938a1",
   "metadata": {},
   "outputs": [],
   "source": [
    "one_hot_encoded_company_cols = [f\"FileName_{col}\" for col in one_hot_encoder.encoder_dict_[\"FileName\"]]"
   ]
  },
  {
   "cell_type": "code",
   "execution_count": null,
   "id": "32161b3b",
   "metadata": {},
   "outputs": [],
   "source": [
    "time_window=30\n",
    "X_TS = []\n",
    "X_CAT = []\n",
    "Y = []\n",
    "for company in one_hot_encoder.encoder_dict_[\"FileName\"]:\n",
    "    X_inner = []\n",
    "    Y_inner = []\n",
    "    X_company_inner = []\n",
    "    dataset = data_copy[data_copy.company==company].copy().sort_values(by=\"Date (AUS)\").drop(columns=[\"Date (AUS)\", \"Days Listed\", \"company\", \"ANN Freq.\", \"Posts\", \"Views\", \"Comments\"]).reset_index(drop=True)\n",
    "    for i in range(time_window, len(dataset)-time_window):\n",
    "        this_window_data = dataset.drop(columns=[\"target\"]+one_hot_encoded_company_cols).loc[i-time_window:i-1]\n",
    "        this_array = this_window_data.values\n",
    "        X_inner.append(this_array)\n",
    "        Y_inner.append(dataset[\"target\"].loc[i-1:i+28])\n",
    "    X_array = np.array(X_inner)\n",
    "    Y_array = np.array(Y_inner)\n",
    "    X_TS.append(X_array)\n",
    "    X_CAT.append(np.repeat(np.unique(dataset[one_hot_encoded_company_cols].values, axis=0), X_array.shape[0], axis=0))\n",
    "    Y.append(Y_array)"
   ]
  },
  {
   "cell_type": "code",
   "execution_count": null,
   "id": "6b31f2a2",
   "metadata": {},
   "outputs": [],
   "source": [
    "final_ts_array = np.vstack(X_TS)\n",
    "final_cat_array = np.vstack(X_CAT)\n",
    "final_y_array = np.concatenate(Y)"
   ]
  },
  {
   "cell_type": "code",
   "execution_count": 10,
   "id": "55abbce7",
   "metadata": {},
   "outputs": [],
   "source": [
    "class TimeSeriesDataset(Dataset):\n",
    "    \"\"\"Time Series dataset.\"\"\"\n",
    "\n",
    "    def __init__(self, X_ts, X_cat, y):\n",
    "        \"\"\"\n",
    "        \"\"\"\n",
    "        self.X_ts = torch.from_numpy(X_ts).float()\n",
    "        self.X_cat = torch.from_numpy(X_cat).long()\n",
    "        self.y = torch.from_numpy(y).float()\n",
    "\n",
    "    def __len__(self):\n",
    "        return len(self.X_ts)\n",
    "\n",
    "    def __getitem__(self, idx):\n",
    "        if torch.is_tensor(idx):\n",
    "            idx = idx.tolist()\n",
    "        \n",
    "        sample = {\n",
    "            'X_ts': self.X_ts[idx], \n",
    "            'X_cat': self.X_cat[idx], \n",
    "            'y': self.y[idx]\n",
    "        }\n",
    "\n",
    "        return sample"
   ]
  },
  {
   "cell_type": "code",
   "execution_count": null,
   "id": "649cea1f",
   "metadata": {},
   "outputs": [],
   "source": [
    "torch_dataset = TimeSeriesDataset(X_ts=final_ts_array, X_cat=final_cat_array, y=final_y_array)"
   ]
  },
  {
   "cell_type": "code",
   "execution_count": null,
   "id": "d9b68a41",
   "metadata": {},
   "outputs": [],
   "source": [
    "train_size = int(len(torch_dataset)*.75)\n",
    "val_size = len(torch_dataset) - train_size"
   ]
  },
  {
   "cell_type": "code",
   "execution_count": null,
   "id": "8ff18248",
   "metadata": {},
   "outputs": [],
   "source": [
    "train_dataset, val_dataset = random_split(torch_dataset, [train_size, val_size], generator=torch.Generator().manual_seed(0))"
   ]
  },
  {
   "cell_type": "code",
   "execution_count": null,
   "id": "7088d55c",
   "metadata": {},
   "outputs": [],
   "source": [
    "batch_size = 2048*3\n",
    "train_loader = DataLoader(train_dataset, batch_size=batch_size, shuffle=True)\n",
    "val_loader = DataLoader(val_dataset, batch_size=batch_size, shuffle=False)"
   ]
  },
  {
   "cell_type": "code",
   "execution_count": 51,
   "id": "e1d393c1",
   "metadata": {},
   "outputs": [],
   "source": [
    "class TimeSeriesForecaster(pl.LightningModule):\n",
    "    def __init__(\n",
    "        self, \n",
    "        rnn_input_size,\n",
    "        num_companies,\n",
    "        dropout_ratio=0.4,\n",
    "        rnn_hidden_size=512,\n",
    "        rnn_stack_size=2,\n",
    "        rnn_type=\"LSTM\",\n",
    "        learning_rate=0.001,\n",
    "        linear_out_size=None,\n",
    "    ):\n",
    "        super().__init__()\n",
    "        self.rnn_input_size = rnn_input_size\n",
    "        self.dropout_ratio = dropout_ratio\n",
    "        self.rnn_hidden_size = rnn_hidden_size\n",
    "        self.rnn_stack_size = rnn_stack_size\n",
    "        self.rnn_type = rnn_type\n",
    "        if rnn_type == \"GRU\":\n",
    "            rnn_layer = nn.GRU\n",
    "        else:\n",
    "            rnn_layer = nn.LSTM\n",
    "\n",
    "        self.rnn = nn.LSTM(\n",
    "            input_size=self.rnn_input_size,\n",
    "            hidden_size=self.rnn_hidden_size,\n",
    "            num_layers=self.rnn_stack_size,\n",
    "            batch_first=True,\n",
    "            dropout=self.dropout_ratio if self.rnn_stack_size > 1 else 0,\n",
    "        )\n",
    "        self.lstm_drop = nn.Dropout(self.dropout_ratio)\n",
    "        self.linear_out_size = linear_out_size\n",
    "\n",
    "        # Linear layers\n",
    "        self.linear1 = nn.Linear(in_features=self.rnn_hidden_size+num_companies, out_features=linear_out_size)\n",
    "        self.linear_drop = nn.Dropout(self.dropout_ratio)\n",
    "        self.linear_final = nn.Linear(\n",
    "            in_features=linear_out_size, out_features=30\n",
    "        )\n",
    "        self.learning_rate = learning_rate\n",
    "        \n",
    "    def forward(self, X_ts, X_embed):\n",
    "        \"\"\"\n",
    "        \"\"\"\n",
    "               \n",
    "        \n",
    "        # RNN\n",
    "        # No need to worry about hidden states since when not\n",
    "        # passed, they are automatically initialized as 0 arrays\n",
    "        rnn_out, hidden = self.rnn(X_ts)\n",
    "        \n",
    "        if self.rnn_stack_size > 1:\n",
    "            rnn_out = self.lstm_drop(rnn_out)\n",
    "\n",
    "        # Stacking\n",
    "        rnn_out = torch.cat((rnn_out[:,-1,:], X_embed), dim=-1)\n",
    "        \n",
    "        # Linear\n",
    "        linear_out = self.linear1(rnn_out)\n",
    "        linear_out = self.linear_drop(linear_out)\n",
    "        linear_out = F.relu(linear_out)\n",
    "        linear_out = self.linear_final(linear_out)\n",
    "        return linear_out\n",
    "    \n",
    "    def on_train_start(self):\n",
    "        \"\"\"\n",
    "        \n",
    "        \"\"\"\n",
    "        \n",
    "        self.logger.log_hyperparams(\n",
    "            {\n",
    "                \"rnn_hidden_size\": self.rnn_hidden_size,\n",
    "                \"rnn_stack_size\": self.rnn_stack_size,\n",
    "                \"rnn_type\": self.rnn_type,\n",
    "            }\n",
    "        )\n",
    "        \n",
    "\n",
    "    def training_step(self, batch, batch_idx):\n",
    "        # training_step defines the train loop.\n",
    "        X_ts = batch[\"X_ts\"]\n",
    "        X_embed = batch[\"X_cat\"]\n",
    "        y = batch[\"y\"]\n",
    "        \n",
    "        final_out = self(X_ts, X_embed)\n",
    "        loss = F.mse_loss(torch.squeeze(final_out), torch.squeeze(y))\n",
    "        self.log(\"train_loss\", loss, on_epoch=True)\n",
    "        return loss\n",
    "    \n",
    "    def _shared_eval_step(self, batch):\n",
    "        \"\"\"\n",
    "        Eval common steps\n",
    "        \"\"\"\n",
    "        \n",
    "        X_ts = batch[\"X_ts\"]\n",
    "        X_embed = batch[\"X_cat\"]\n",
    "        y = batch[\"y\"]\n",
    "        \n",
    "        final_out = self(X_ts, X_embed)\n",
    "        loss = F.mse_loss(torch.squeeze(final_out), torch.squeeze(y))\n",
    "        \n",
    "        return loss, final_out\n",
    "    \n",
    "    def validation_step(self, batch, batch_idx):\n",
    "        # validation_step defines the validation loop.\n",
    "        \n",
    "        loss, final_out = self._shared_eval_step(batch)\n",
    "        self.log(\"val_loss\", loss, on_epoch=True)\n",
    "        return {\"val_loss\": loss, \"pred\": final_out}\n",
    "    \n",
    "    def test_step(self, batch, batch_idx):\n",
    "        # test_step defines the test loop.\n",
    "        \n",
    "        \n",
    "        loss, final_out = self._shared_eval_step(batch)\n",
    "        self.log(\"test_loss\", loss, on_epoch=True)\n",
    "        return {\"test_loss\": loss, \"pred\": final_out}\n",
    "    \n",
    "    def predict_step(self, batch, batch_idx):\n",
    "        \"\"\"\n",
    "        Predict step\n",
    "        \"\"\"\n",
    "        \n",
    "        X_ts = batch[\"X_ts\"]\n",
    "        X_embed = batch[\"X_cat\"]\n",
    "        h_hat = self(X_ts, X_embed)\n",
    "        return h_hat\n",
    "        \n",
    "\n",
    "    def configure_optimizers(self):\n",
    "        optimizer = torch.optim.Adam(self.parameters(), lr=self.learning_rate)\n",
    "        return optimizer"
   ]
  },
  {
   "cell_type": "code",
   "execution_count": 26,
   "id": "b71159d2",
   "metadata": {
    "collapsed": true
   },
   "outputs": [
    {
     "ename": "NameError",
     "evalue": "name 'final_ts_array' is not defined",
     "output_type": "error",
     "traceback": [
      "\u001b[0;31m---------------------------------------------------------------------------\u001b[0m",
      "\u001b[0;31mNameError\u001b[0m                                 Traceback (most recent call last)",
      "Input \u001b[0;32mIn [26]\u001b[0m, in \u001b[0;36m<cell line: 1>\u001b[0;34m()\u001b[0m\n\u001b[0;32m----> 1\u001b[0m rnn_input_len \u001b[38;5;241m=\u001b[39m \u001b[43mfinal_ts_array\u001b[49m\u001b[38;5;241m.\u001b[39mshape[\u001b[38;5;241m1\u001b[39m]\n",
      "\u001b[0;31mNameError\u001b[0m: name 'final_ts_array' is not defined"
     ]
    }
   ],
   "source": [
    "rnn_input_len = final_ts_array.shape[1]"
   ]
  },
  {
   "cell_type": "code",
   "execution_count": null,
   "id": "2767e935",
   "metadata": {},
   "outputs": [],
   "source": [
    "hyperparams = {\n",
    "    \"rnn_input_size\": final_ts_array.shape[2],\n",
    "    \"num_companies\": final_cat_array.shape[1],\n",
    "    # not a good idea to use rnn_stack_size of more than 1. It only degrades the model\n",
    "    \"rnn_stack_size\": 1,\n",
    "    \"learning_rate\": 0.0003,\n",
    "    \"rnn_hidden_size\": 512,\n",
    "    \"linear_out_size\": 128,\n",
    "}"
   ]
  },
  {
   "cell_type": "code",
   "execution_count": null,
   "id": "f1d39d34",
   "metadata": {},
   "outputs": [],
   "source": [
    "model = TimeSeriesForecaster(**hyperparams)"
   ]
  },
  {
   "cell_type": "code",
   "execution_count": null,
   "id": "165803eb",
   "metadata": {},
   "outputs": [],
   "source": [
    "mlflow.pytorch.autolog(log_every_n_epoch=1, log_every_n_step=None, log_models=True, disable=False, exclusive=False, disable_for_unsupported_versions=False, silent=False, registered_model_name=None)"
   ]
  },
  {
   "cell_type": "code",
   "execution_count": null,
   "id": "98440899",
   "metadata": {},
   "outputs": [],
   "source": [
    "trainer = pl.Trainer(accelerator=\"gpu\", devices=1, max_epochs=1000, log_every_n_steps=10, callbacks=[EarlyStopping(monitor=\"val_loss\", mode=\"min\", patience=10, check_on_train_epoch_end=True)])"
   ]
  },
  {
   "cell_type": "code",
   "execution_count": null,
   "id": "71a4196f",
   "metadata": {},
   "outputs": [],
   "source": [
    "with mlflow.start_run() as run:\n",
    "    run_id = run.info.run_id\n",
    "    mlflow.log_param(\"time_window\", time_window)\n",
    "    mlflow.log_param(\"batch_size\", batch_size)\n",
    "    mlflow.log_param(\"train_size\", train_size)\n",
    "    mlflow.log_params(hyperparams)\n",
    "    mlflow.log_artifacts(\"artifacts\", artifact_path=\"pickles\")\n",
    "    trainer.fit(model, train_dataloaders=train_loader, val_dataloaders=val_loader)"
   ]
  },
  {
   "cell_type": "code",
   "execution_count": null,
   "id": "a4880011",
   "metadata": {
    "scrolled": true
   },
   "outputs": [],
   "source": [
    "next(iter(train_loader))"
   ]
  },
  {
   "cell_type": "code",
   "execution_count": null,
   "id": "5a9a6068",
   "metadata": {},
   "outputs": [],
   "source": []
  },
  {
   "cell_type": "markdown",
   "id": "29f378c2",
   "metadata": {},
   "source": [
    "### Inference"
   ]
  },
  {
   "cell_type": "code",
   "execution_count": 30,
   "id": "e608a04f",
   "metadata": {},
   "outputs": [],
   "source": [
    "import json\n",
    "\n",
    "import pandas as pd"
   ]
  },
  {
   "cell_type": "code",
   "execution_count": 31,
   "id": "963d830d",
   "metadata": {},
   "outputs": [],
   "source": [
    "run_id = \"171feeb81e8a4e21af03d891a2bc8665\""
   ]
  },
  {
   "cell_type": "code",
   "execution_count": 32,
   "id": "7f4a480f",
   "metadata": {},
   "outputs": [],
   "source": [
    "data_test = pd.read_pickle(f\"mlruns/1/{run_id}/artifacts/pickles/data_test.pkl\")\n",
    "#min_max_scaler = joblib.load(f\"mlruns/1/{run_id}/artifacts/pickles/min_max_scaler.pkl\")\n",
    "one_hot_encoder = joblib.load(f\"mlruns/1/{run_id}/artifacts/pickles/one_hot_encoder.pkl\")\n",
    "run_data = mlflow.get_run(run_id).data\n",
    "time_window = int(run_data.params.get(\"time_window\", 30))"
   ]
  },
  {
   "cell_type": "code",
   "execution_count": 33,
   "id": "2e1493c1",
   "metadata": {},
   "outputs": [],
   "source": [
    "one_hot_encoded_company_cols = [f\"FileName_{col}\" for col in one_hot_encoder.encoder_dict_[\"FileName\"]]"
   ]
  },
  {
   "cell_type": "code",
   "execution_count": 34,
   "id": "8f540833",
   "metadata": {},
   "outputs": [],
   "source": [
    "logged_model = f'runs:/{run_id}/model'\n",
    "\n",
    "# Load model as a PyFuncModel.\n",
    "loaded_model = mlflow.pytorch.load_model(logged_model)"
   ]
  },
  {
   "cell_type": "code",
   "execution_count": 35,
   "id": "d99a849d",
   "metadata": {},
   "outputs": [
    {
     "data": {
      "text/plain": [
       "TimeSeriesForecaster(\n",
       "  (rnn): LSTM(18, 512, batch_first=True)\n",
       "  (lstm_drop): Dropout(p=0.4, inplace=False)\n",
       "  (linear1): Linear(in_features=676, out_features=128, bias=True)\n",
       "  (linear_drop): Dropout(p=0.4, inplace=False)\n",
       "  (linear_final): Linear(in_features=128, out_features=30, bias=True)\n",
       ")"
      ]
     },
     "execution_count": 35,
     "metadata": {},
     "output_type": "execute_result"
    }
   ],
   "source": [
    "loaded_model"
   ]
  },
  {
   "cell_type": "code",
   "execution_count": 52,
   "id": "d23e23ce",
   "metadata": {},
   "outputs": [
    {
     "data": {
      "text/plain": [
       "<All keys matched successfully>"
      ]
     },
     "execution_count": 52,
     "metadata": {},
     "output_type": "execute_result"
    }
   ],
   "source": [
    "hyperparams = {\n",
    "    \"rnn_input_size\": 18,\n",
    "    \"num_companies\": 676-512,\n",
    "    # not a good idea to use rnn_stack_size of more than 1. It only degrades the model\n",
    "    \"rnn_stack_size\": 1,\n",
    "    \"learning_rate\": 0.0003,\n",
    "    \"rnn_hidden_size\": 512,\n",
    "    \"linear_out_size\": 128,\n",
    "}\n",
    "model = TimeSeriesForecaster(**hyperparams)\n",
    "model.load_state_dict(loaded_model.state_dict())"
   ]
  },
  {
   "cell_type": "code",
   "execution_count": 53,
   "id": "ea3bfa25",
   "metadata": {},
   "outputs": [
    {
     "name": "stderr",
     "output_type": "stream",
     "text": [
      "GPU available: True (cuda), used: True\n",
      "TPU available: False, using: 0 TPU cores\n",
      "IPU available: False, using: 0 IPUs\n",
      "HPU available: False, using: 0 HPUs\n"
     ]
    }
   ],
   "source": [
    "trainer = pl.Trainer(accelerator=\"gpu\", devices=1, max_epochs=200, log_every_n_steps=30, callbacks=[EarlyStopping(monitor=\"val_loss\", mode=\"min\", patience=5, check_on_train_epoch_end=True)])"
   ]
  },
  {
   "cell_type": "code",
   "execution_count": 54,
   "id": "4e76019f",
   "metadata": {},
   "outputs": [],
   "source": [
    "def create_input_data(data_test, company, time_window):\n",
    "    \"\"\"\n",
    "    This is currently not generic and assumes that data is already preprocessed\n",
    "    with standard scaler etc..\n",
    "    \"\"\"\n",
    "    \n",
    "    data_test_this_company = data_test[data_test.company==company].sort_values(by=\"Date (AUS)\").drop(columns=[\"Date (AUS)\", \"Days Listed\", \"company\", \"ANN Freq.\", \"Posts\", \"Views\", \"Comments\"]).reset_index(drop=True)\n",
    "    X_ts = data_test_this_company.loc[:time_window-1].drop(columns=[\"target\"]+one_hot_encoded_company_cols).values\n",
    "    X_cat = np.unique(data_test_this_company.loc[:time_window-1][one_hot_encoded_company_cols].values, axis=0)\n",
    "    y_true = data_test_this_company.loc[time_window:][\"target\"].values\n",
    "    return X_ts, X_cat, y_true"
   ]
  },
  {
   "cell_type": "code",
   "execution_count": 55,
   "id": "92e4ba18",
   "metadata": {},
   "outputs": [],
   "source": [
    "def predict_current(X_ts, X_cat, model):\n",
    "    \"\"\"\n",
    "    \n",
    "    \"\"\"\n",
    "    \n",
    "    test_dataset = TimeSeriesDataset(X_ts=X_ts, X_cat=X_cat, y=np.zeros((X_ts.shape[0])))\n",
    "    test_loader = DataLoader(test_dataset, batch_size=1, shuffle=False)\n",
    "    y_pred = trainer.predict(model, test_loader)\n",
    "    return y_pred"
   ]
  },
  {
   "cell_type": "code",
   "execution_count": 56,
   "id": "5abe73f7",
   "metadata": {},
   "outputs": [
    {
     "data": {
      "text/plain": [
       "['TIE', 'TMX', 'TNR', 'TRM', 'TRY', 'TTM', 'VAN', 'VKA', 'VMC', 'WAF']"
      ]
     },
     "execution_count": 56,
     "metadata": {},
     "output_type": "execute_result"
    }
   ],
   "source": [
    "one_hot_encoder.encoder_dict_[\"FileName\"][150:160]"
   ]
  },
  {
   "cell_type": "code",
   "execution_count": 57,
   "id": "4f08df73",
   "metadata": {},
   "outputs": [
    {
     "name": "stderr",
     "output_type": "stream",
     "text": [
      "LOCAL_RANK: 0 - CUDA_VISIBLE_DEVICES: [0]\n",
      "/home/sam/anaconda3/envs/timeseries/lib/python3.10/site-packages/pytorch_lightning/trainer/connectors/data_connector.py:225: PossibleUserWarning: The dataloader, predict_dataloader 0, does not have many workers which may be a bottleneck. Consider increasing the value of the `num_workers` argument` (try 12 which is the number of cpus on this machine) in the `DataLoader` init to improve performance.\n",
      "  rank_zero_warn(\n"
     ]
    },
    {
     "data": {
      "application/vnd.jupyter.widget-view+json": {
       "model_id": "736eefdb998c4fc38da836ecd5aa350d",
       "version_major": 2,
       "version_minor": 0
      },
      "text/plain": [
       "Predicting: 0it [00:00, ?it/s]"
      ]
     },
     "metadata": {},
     "output_type": "display_data"
    }
   ],
   "source": [
    "company = \"NCM\"\n",
    "X_ts, X_cat, y_true = create_input_data(data_test, company, time_window)\n",
    "y_pred = predict_current(X_ts.reshape((1, X_ts.shape[0], X_ts.shape[1])), X_cat, model)"
   ]
  },
  {
   "cell_type": "code",
   "execution_count": 58,
   "id": "645d18de",
   "metadata": {},
   "outputs": [
    {
     "data": {
      "image/png": "[encoded data removed]",
      "text/plain": [
       "<Figure size 640x480 with 1 Axes>"
      ]
     },
     "metadata": {},
     "output_type": "display_data"
    }
   ],
   "source": [
    "import matplotlib.pyplot as plt\n",
    "plt.title(label=company)\n",
    "plt.plot(torch.squeeze(y_pred[0]).numpy(), label = \"Prediction\")\n",
    "plt.plot(y_true, label = \"Truth\")\n",
    "plt.legend()\n",
    "plt.show()"
   ]
  },
  {
   "cell_type": "code",
   "execution_count": null,
   "id": "552c2d5b",
   "metadata": {},
   "outputs": [],
   "source": [
    "F.mse_loss(torch.squeeze(y_pred[0]), torch.Tensor(y_true))"
   ]
  },
  {
   "cell_type": "code",
   "execution_count": null,
   "id": "ea3eb760",
   "metadata": {},
   "outputs": [],
   "source": []
  },
  {
   "cell_type": "code",
   "execution_count": null,
   "id": "d5521287",
   "metadata": {},
   "outputs": [],
   "source": []
  },
  {
   "cell_type": "code",
   "execution_count": null,
   "id": "5859e2c3",
   "metadata": {},
   "outputs": [],
   "source": []
  },
  {
   "cell_type": "code",
   "execution_count": null,
   "id": "5abc93a6",
   "metadata": {},
   "outputs": [],
   "source": []
  }
 ],
 "metadata": {
  "kernelspec": {
   "display_name": "Python 3 (ipykernel)",
   "language": "python",
   "name": "python3"
  },
  "language_info": {
   "codemirror_mode": {
    "name": "ipython",
    "version": 3
   },
   "file_extension": ".py",
   "mimetype": "text/x-python",
   "name": "python",
   "nbconvert_exporter": "python",
   "pygments_lexer": "ipython3",
   "version": "3.10.4"
  }
 },
 "nbformat": 4,
 "nbformat_minor": 5
}
